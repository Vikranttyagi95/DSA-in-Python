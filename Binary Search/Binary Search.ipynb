{
 "cells": [
  {
   "cell_type": "markdown",
   "metadata": {},
   "source": [
    "## Binary Search"
   ]
  },
  {
   "cell_type": "code",
   "execution_count": 3,
   "metadata": {},
   "outputs": [],
   "source": [
    "my_list = [2,4,5,7,9,11,15,18,32,67,87]\n",
    "\n",
    "def binary_search(my_list, num):\n",
    "    start = 0\n",
    "    end = len(my_list) - 1\n",
    "    \n",
    "    while(start <= end):\n",
    "        mid = (start + end) // 2\n",
    "        \n",
    "        if my_list[mid] == num:\n",
    "            return mid\n",
    "        \n",
    "        elif my_list[mid] > num:\n",
    "            end = mid - 1\n",
    "        \n",
    "        else:\n",
    "            start = mid + 1\n",
    "    \n",
    "    return None"
   ]
  },
  {
   "cell_type": "code",
   "execution_count": 4,
   "metadata": {},
   "outputs": [
    {
     "name": "stdout",
     "output_type": "stream",
     "text": [
      "5\n"
     ]
    }
   ],
   "source": [
    "print(binary_search(my_list, 11))"
   ]
  },
  {
   "cell_type": "markdown",
   "metadata": {},
   "source": [
    "## Order Agnostic Binary Search\n",
    "*Binary Search implementation for when the sort order of the list doesn't matter*"
   ]
  },
  {
   "cell_type": "code",
   "execution_count": 18,
   "metadata": {},
   "outputs": [],
   "source": [
    "def OrderAgnosticBinarySearch(my_list, num):\n",
    "    start = 0\n",
    "    end = len(my_list) - 1\n",
    "    \n",
    "    def IsAsc():\n",
    "        return my_list[start] < my_list[end]\n",
    "        \n",
    "    while(start <= end):\n",
    "        mid = (start + end) // 2\n",
    "\n",
    "        if my_list[mid] == num:\n",
    "            return mid\n",
    "\n",
    "        if IsAsc():\n",
    "            if my_list[mid] > num:\n",
    "                end = mid - 1\n",
    "\n",
    "            else:\n",
    "                start = mid + 1\n",
    "        else:\n",
    "            if my_list[mid] < num:\n",
    "                end = mid - 1\n",
    "\n",
    "            else:\n",
    "                start = mid + 1         \n",
    "    \n",
    "    return None"
   ]
  },
  {
   "cell_type": "code",
   "execution_count": 19,
   "metadata": {},
   "outputs": [
    {
     "name": "stdout",
     "output_type": "stream",
     "text": [
      "7\n"
     ]
    }
   ],
   "source": [
    "my_list = [2,4,5,7,9,11,15,18,32,67,87]\n",
    "print(OrderAgnosticBinarySearch(my_list, 18))"
   ]
  },
  {
   "cell_type": "code",
   "execution_count": null,
   "metadata": {},
   "outputs": [],
   "source": []
  }
 ],
 "metadata": {
  "kernelspec": {
   "display_name": "Python 3",
   "language": "python",
   "name": "python3"
  },
  "language_info": {
   "codemirror_mode": {
    "name": "ipython",
    "version": 3
   },
   "file_extension": ".py",
   "mimetype": "text/x-python",
   "name": "python",
   "nbconvert_exporter": "python",
   "pygments_lexer": "ipython3",
   "version": "3.8.5"
  }
 },
 "nbformat": 4,
 "nbformat_minor": 4
}
