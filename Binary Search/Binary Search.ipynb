{
 "cells": [
  {
   "cell_type": "markdown",
   "metadata": {},
   "source": [
    "## Binary Search"
   ]
  },
  {
   "cell_type": "code",
   "execution_count": 23,
   "metadata": {},
   "outputs": [],
   "source": [
    "my_list = [2,4,5,7,9,11,15,18,32,67,87]\n",
    "\n",
    "def binary_search(my_list, num):\n",
    "    start = 0\n",
    "    end = len(my_list) - 1\n",
    "    \n",
    "    while(start <= end):\n",
    "        mid = (start + end) // 2\n",
    "        \n",
    "        if my_list[mid] == num:\n",
    "            return mid\n",
    "        \n",
    "        elif my_list[mid] > num:\n",
    "            end = mid - 1\n",
    "        \n",
    "        else:\n",
    "            start = mid + 1\n",
    "    \n",
    "    return None"
   ]
  },
  {
   "cell_type": "code",
   "execution_count": 24,
   "metadata": {},
   "outputs": [
    {
     "name": "stdout",
     "output_type": "stream",
     "text": [
      "5\n"
     ]
    }
   ],
   "source": [
    "print(binary_search(my_list, 11))"
   ]
  },
  {
   "cell_type": "markdown",
   "metadata": {},
   "source": [
    "## Order Agnostic Binary Search\n",
    "*Binary Search implementation for when the sort order of the list doesn't matter*"
   ]
  },
  {
   "cell_type": "code",
   "execution_count": 18,
   "metadata": {},
   "outputs": [],
   "source": [
    "def OrderAgnosticBinarySearch(my_list, num):\n",
    "    start = 0\n",
    "    end = len(my_list) - 1\n",
    "    \n",
    "    def IsAsc():\n",
    "        return my_list[start] < my_list[end]\n",
    "        \n",
    "    while(start <= end):\n",
    "        mid = (start + end) // 2\n",
    "\n",
    "        if my_list[mid] == num:\n",
    "            return mid\n",
    "\n",
    "        if IsAsc():\n",
    "            if my_list[mid] > num:\n",
    "                end = mid - 1\n",
    "\n",
    "            else:\n",
    "                start = mid + 1\n",
    "        else:\n",
    "            if my_list[mid] < num:\n",
    "                end = mid - 1\n",
    "\n",
    "            else:\n",
    "                start = mid + 1         \n",
    "    \n",
    "    return None"
   ]
  },
  {
   "cell_type": "code",
   "execution_count": 19,
   "metadata": {},
   "outputs": [
    {
     "name": "stdout",
     "output_type": "stream",
     "text": [
      "7\n"
     ]
    }
   ],
   "source": [
    "my_list = [2,4,5,7,9,11,15,18,32,67,87]\n",
    "print(OrderAgnosticBinarySearch(my_list, 18))"
   ]
  },
  {
   "cell_type": "markdown",
   "metadata": {},
   "source": [
    "## Problem - 1\n",
    "*Given a non-negative integer x, compute and return the square root of x.*\n",
    "*Since the return type is an integer, the decimal digits are truncated, and only the integer part of the result is returned.*\n",
    "\n",
    "[Problem Link](https://leetcode.com/problems/sqrtx/)"
   ]
  },
  {
   "cell_type": "code",
   "execution_count": 21,
   "metadata": {},
   "outputs": [
    {
     "name": "stdout",
     "output_type": "stream",
     "text": [
      "2\n"
     ]
    }
   ],
   "source": [
    "def square_root(num):\n",
    "    if num == 0:\n",
    "        return 0\n",
    "    \n",
    "    left, right = 1,num\n",
    "\n",
    "    while(left <= right):\n",
    "        mid = left + (right-left)//2\n",
    "        if mid * mid <= num < (mid+1)*(mid+1):\n",
    "            return mid\n",
    "        elif mid*mid > num:\n",
    "            right = mid-1\n",
    "        else:\n",
    "            left = mid+1\n",
    "\n",
    "print(square_root(4))    "
   ]
  },
  {
   "cell_type": "markdown",
   "metadata": {},
   "source": [
    "## Problem - 2\n",
    "*Find the ceiling of a no.*"
   ]
  },
  {
   "cell_type": "code",
   "execution_count": 27,
   "metadata": {},
   "outputs": [],
   "source": [
    "def ceiling(my_list, target):\n",
    "    start = 0\n",
    "    end = len(my_list) - 1\n",
    "    \n",
    "    if target > my_list[end]:\n",
    "        return -1\n",
    "    \n",
    "    while(start <= end):\n",
    "        mid = start + (end-start)//2\n",
    "        \n",
    "        if target > my_list[mid]:\n",
    "            start = mid + 1\n",
    "        \n",
    "        elif target < my_list[mid]:\n",
    "            end = mid - 1\n",
    "        \n",
    "        else:\n",
    "            return my_list[mid]\n",
    "        \n",
    "    return my_list[start]"
   ]
  },
  {
   "cell_type": "code",
   "execution_count": 28,
   "metadata": {},
   "outputs": [
    {
     "name": "stdout",
     "output_type": "stream",
     "text": [
      "2\n"
     ]
    }
   ],
   "source": [
    "my_list = [2,3,5,7,9,15,18,21,28,32,37]\n",
    "print(ceiling(my_list,1))"
   ]
  },
  {
   "cell_type": "markdown",
   "metadata": {},
   "source": [
    "## Problem - 3\n",
    "*Given an array of integers nums sorted in non-decreasing order, find the starting and ending position of a given target value.*\n",
    "\n",
    "[Problem Link](https://leetcode.com/problems/find-first-and-last-position-of-element-in-sorted-array/)"
   ]
  },
  {
   "cell_type": "markdown",
   "metadata": {},
   "source": [
    "### Brute Force Method"
   ]
  },
  {
   "cell_type": "code",
   "execution_count": 48,
   "metadata": {},
   "outputs": [],
   "source": [
    "def SearchRange(my_list, target):\n",
    "    \n",
    "    if len(my_list) == 0 or target not in my_list:\n",
    "        return [-1,-1]\n",
    "    \n",
    "    res = []\n",
    "    for index in range(len(my_list)):         # looping from the beginning of the list\n",
    "        if my_list[index] == target:\n",
    "            res.append(index)\n",
    "            break\n",
    "        index += 1\n",
    "    \n",
    "   \n",
    "    for index in range(len(my_list)-1,-1,-1):    # looping from the end of the list\n",
    "        if target == my_list[index]:\n",
    "            print(index)\n",
    "            res.append(index)\n",
    "            break\n",
    "        index -= 1\n",
    "    \n",
    "    return res\n",
    "        "
   ]
  },
  {
   "cell_type": "code",
   "execution_count": 49,
   "metadata": {},
   "outputs": [
    {
     "name": "stdout",
     "output_type": "stream",
     "text": [
      "6\n",
      "[6, 6]\n"
     ]
    }
   ],
   "source": [
    "my_list = [5,6,7,7,7,7,8,9,10,12]\n",
    "print(SearchRange(my_list,8))"
   ]
  },
  {
   "cell_type": "markdown",
   "metadata": {},
   "source": [
    "### Using Binary Search"
   ]
  },
  {
   "cell_type": "code",
   "execution_count": 79,
   "metadata": {},
   "outputs": [],
   "source": [
    "class Solution:\n",
    "    \n",
    "    def find_element(numlist, num, firstOccurrence):\n",
    "        start = 0\n",
    "        end = len(numlist) - 1\n",
    "\n",
    "        ans = -1\n",
    "        while (start <= end):\n",
    "            mid = start + (end-start)//2\n",
    "\n",
    "            if num > numlist[mid]:\n",
    "                start = mid + 1\n",
    "            elif num < numlist[mid]:\n",
    "                end = mid - 1\n",
    "            else:\n",
    "                ans = mid\n",
    "                if firstOccurrence:            # Checking if we are searching for the first occurrence or last occurrence\n",
    "                    end = mid - 1\n",
    "                else:\n",
    "                    start = mid + 1\n",
    "        return ans\n",
    "\n",
    "    def searchRange(self, nums, target):\n",
    "        ans = [-1,-1]\n",
    "\n",
    "        ans[0] = find_element(nums, target, True)\n",
    "        if ans[0] != -1:\n",
    "            ans[1] = find_element(nums, target, False)\n",
    "\n",
    "        return ans"
   ]
  },
  {
   "cell_type": "code",
   "execution_count": 81,
   "metadata": {},
   "outputs": [
    {
     "name": "stdout",
     "output_type": "stream",
     "text": [
      "[6, 8]\n"
     ]
    }
   ],
   "source": [
    "my_list = [5,6,7,7,7,7,8,8,8,9,10,12]\n",
    "s1 = Solution()\n",
    "print(s1.searchRange(my_list,8))"
   ]
  },
  {
   "cell_type": "markdown",
   "metadata": {},
   "source": [
    "## Problem - 4\n",
    "*Find an element in a sorted array whose length is infinite*"
   ]
  },
  {
   "cell_type": "code",
   "execution_count": 87,
   "metadata": {},
   "outputs": [],
   "source": [
    "def BinarySearch(my_list, target, start, end):\n",
    "    \n",
    "    while(start <= end):\n",
    "        mid = start + (end-start)//2\n",
    "        \n",
    "        if target == my_list[mid]:\n",
    "            return mid\n",
    "        elif target < my_list[mid]:\n",
    "            end = mid-1\n",
    "        else:\n",
    "            start = mid+1\n",
    "        \n",
    "    return None\n",
    "\n",
    "def search_infinite_list(my_list, target):\n",
    "    start = 0\n",
    "    end = 1\n",
    "    \n",
    "    while(target > my_list[end]):      # double the size until the target element comes within a searchable range i.e we have start and end indices to search\n",
    "        newstart = end + 1\n",
    "        end = end + (end-start+1)*2    # double the size of the box each time because you dont know the length of the array\n",
    "        print(my_list[end])\n",
    "        start = newstart\n",
    "        \n",
    "    return BinarySearch(my_list, target, start, end)\n",
    "        "
   ]
  },
  {
   "cell_type": "code",
   "execution_count": 90,
   "metadata": {},
   "outputs": [
    {
     "name": "stdout",
     "output_type": "stream",
     "text": [
      "10\n",
      "3\n"
     ]
    }
   ],
   "source": [
    "my_list = [5,6,7,8,9,10,12,15,18,32,53,82,84,86,88,100,101,102,103,105]\n",
    "print(search_infinite_list(my_list,8))"
   ]
  },
  {
   "cell_type": "markdown",
   "metadata": {},
   "source": [
    "## Problem - 5\n",
    "*Peak Index in a Mountain Array*\n",
    "\n",
    "[Problem Link](https://leetcode.com/problems/peak-index-in-a-mountain-array/)"
   ]
  },
  {
   "cell_type": "code",
   "execution_count": 14,
   "metadata": {},
   "outputs": [],
   "source": [
    "def PeakIndex(my_list):\n",
    "    start = 0\n",
    "    end = len(my_list) - 1\n",
    "    \n",
    "    while(start < end):\n",
    "        mid = start + (end-start)//2\n",
    "        \n",
    "        if my_list[mid] < my_list[mid+1]:\n",
    "            start = mid + 1\n",
    "        \n",
    "        elif my_list[mid] > my_list[mid+1]:\n",
    "            end = mid\n",
    "        \n",
    "    return start\n"
   ]
  },
  {
   "cell_type": "code",
   "execution_count": 15,
   "metadata": {},
   "outputs": [
    {
     "name": "stdout",
     "output_type": "stream",
     "text": [
      "2\n"
     ]
    }
   ],
   "source": [
    "my_list = [24,69,100,99,79,78,67,36,26,19]\n",
    "print(PeakIndex(my_list))"
   ]
  },
  {
   "cell_type": "markdown",
   "metadata": {},
   "source": [
    "## Problem - 6 \n",
    "*Find element in a mountain array*\n",
    "\n",
    "[Problem link](https://leetcode.com/problems/find-in-mountain-array/)\n",
    "\n",
    "- Level: Hard"
   ]
  },
  {
   "cell_type": "code",
   "execution_count": 23,
   "metadata": {},
   "outputs": [],
   "source": [
    "def findInMountainArray(my_list,target):\n",
    "    # First finding the peak element in the array to divide it in two halves i.e. increasing & decreasing\n",
    "    \n",
    "    def PeakIndex(my_list):\n",
    "        start = 0\n",
    "        end = len(my_list) - 1\n",
    "\n",
    "        while(start < end):\n",
    "            mid = start + (end-start)//2\n",
    "\n",
    "            if my_list[mid] < my_list[mid+1]:\n",
    "                start = mid + 1\n",
    "\n",
    "            elif my_list[mid] > my_list[mid+1]:\n",
    "                end = mid\n",
    "\n",
    "        return start\n",
    "\n",
    "    \n",
    "    # Order Agnostic Binary Search\n",
    "    def BinarySearch(start, end, target, IsAsc):\n",
    "            \n",
    "        while(start <= end):\n",
    "            mid = start + (end-start)//2\n",
    "\n",
    "            if my_list[mid] == target:\n",
    "                return mid\n",
    "\n",
    "            if IsAsc:\n",
    "                if target > my_list[mid]:\n",
    "                    start = mid+1\n",
    "                else:\n",
    "                    end = mid - 1\n",
    "            else:\n",
    "                if target < my_list[mid]:\n",
    "                    start = mid+1\n",
    "                else:\n",
    "                    end = mid - 1\n",
    "\n",
    "        return -1\n",
    "    \n",
    "    # After having peak element, call binary search on first half. if no element found then call binary search on second half\n",
    "    \n",
    "    new_start = 0\n",
    "    new_end = PeakIndex(my_list)\n",
    "    \n",
    "    first = BinarySearch(new_start, new_end, target, True)\n",
    "    \n",
    "    if first == -1:\n",
    "        first = BinarySearch(new_end+1, len(my_list)-1, target, False)\n",
    "    \n",
    "    return first"
   ]
  },
  {
   "cell_type": "code",
   "execution_count": 27,
   "metadata": {},
   "outputs": [
    {
     "name": "stdout",
     "output_type": "stream",
     "text": [
      "2\n"
     ]
    }
   ],
   "source": [
    "my_list = [1,2,3,4,5,3,1]\n",
    "print(findInMountainArray(my_list,3))"
   ]
  },
  {
   "cell_type": "markdown",
   "metadata": {},
   "source": [
    "## Problem - 7\n",
    "*Search in a rotated sorted array*\n",
    "\n",
    "[Problem Link](https://leetcode.com/problems/search-in-rotated-sorted-array/)\n",
    "\n",
    "- Level: Medium"
   ]
  },
  {
   "cell_type": "code",
   "execution_count": 21,
   "metadata": {},
   "outputs": [],
   "source": [
    "def RotatedBinarySearch(nums, target):\n",
    "    res = 0\n",
    "    \n",
    "    # fuction to find the peak/max/pivot element in the array\n",
    "    \n",
    "    def findPeak():\n",
    "        \n",
    "        start = 0\n",
    "        end = len(nums)-1\n",
    "\n",
    "        while(start <= end):\n",
    "            mid = start + (end-start)//2\n",
    "\n",
    "            if mid < end and nums[mid] > nums[mid+1]:\n",
    "                return mid\n",
    "\n",
    "            elif mid > start and nums[mid] < nums[mid-1]:\n",
    "                return mid - 1\n",
    "\n",
    "            elif nums[mid] <= nums[0]:\n",
    "                end = mid - 1\n",
    "\n",
    "            else:\n",
    "                start = mid + 1\n",
    "\n",
    "        return -1\n",
    "    \n",
    "    \n",
    "    # function for binary searching the element\n",
    "    \n",
    "    def BinarySearch(start, end, target):\n",
    "            \n",
    "        while(start <= end):\n",
    "            mid = start + (end-start)//2\n",
    "\n",
    "            if nums[mid] == target:\n",
    "                return mid\n",
    "\n",
    "            if target > nums[mid]:\n",
    "                start = mid+1\n",
    "                \n",
    "            else:\n",
    "                end = mid - 1\n",
    "                \n",
    "        return -1\n",
    "    \n",
    "    peak_index = findPeak()\n",
    "    \n",
    "    if peak_index == -1:                       #  if no pivot is found that means array is not rotated\n",
    "        return BinarySearch(0, len(nums)-1, target)\n",
    "    \n",
    "    elif target == nums[peak_index]:\n",
    "        return peak_index\n",
    "    \n",
    "    elif target > nums[0]:\n",
    "        return BinarySearch(0, peak_index-1, target)\n",
    "    \n",
    "    else:\n",
    "        return BinarySearch(peak_index+1, len(nums)-1, target)\n",
    "        \n"
   ]
  },
  {
   "cell_type": "code",
   "execution_count": 23,
   "metadata": {},
   "outputs": [
    {
     "name": "stdout",
     "output_type": "stream",
     "text": [
      "3\n"
     ]
    }
   ],
   "source": [
    "nums = [4,5,6,7,0,1,2]\n",
    "print(RotatedBinarySearch(nums, 7))"
   ]
  },
  {
   "cell_type": "markdown",
   "metadata": {},
   "source": [
    "## Problem - 8\n",
    "*Rotation count in a rotated sorted array*\n"
   ]
  },
  {
   "cell_type": "code",
   "execution_count": 2,
   "metadata": {},
   "outputs": [],
   "source": [
    "def RotationCount(nums):\n",
    "    \n",
    "    def FindPeak():\n",
    "        start = 0\n",
    "        end = len(nums)-1\n",
    "        \n",
    "        while(start <= end):\n",
    "            mid = start + (end-start)//2\n",
    "            \n",
    "            if mid < end and nums[mid] > nums[mid+1]:\n",
    "                return mid\n",
    "            \n",
    "            elif mid > start and nums[mid] < nums[mid-1]:\n",
    "                return mid-1\n",
    "            \n",
    "            elif nums[mid] >= nums[0]:\n",
    "                start = mid + 1\n",
    "            \n",
    "            else:\n",
    "                end = mid - 1\n",
    "                \n",
    "        return -1\n",
    "    \n",
    "    peak_index = FindPeak()\n",
    "    \n",
    "    return peak_index+1\n"
   ]
  },
  {
   "cell_type": "code",
   "execution_count": 4,
   "metadata": {},
   "outputs": [
    {
     "name": "stdout",
     "output_type": "stream",
     "text": [
      "0\n"
     ]
    }
   ],
   "source": [
    "nums = [2,4,7,8,10,12]\n",
    "print(RotationCount(nums))"
   ]
  },
  {
   "cell_type": "markdown",
   "metadata": {},
   "source": [
    "## Problem - 9\n",
    "*Split Array Largest Sum*\n",
    "\n",
    "[Problem Link](https://leetcode.com/problems/split-array-largest-sum/)\n",
    "\n",
    "*Do it later.*"
   ]
  },
  {
   "cell_type": "markdown",
   "metadata": {},
   "source": [
    "## Problem - 10\n",
    "*Search in a 2-D sorted matrix*"
   ]
  },
  {
   "cell_type": "code",
   "execution_count": 14,
   "metadata": {},
   "outputs": [],
   "source": [
    "def Search_2D_matrix(mat, target):\n",
    "    row = 0\n",
    "    col = len(mat) - 1\n",
    "    \n",
    "    while(row < len(mat) and col >= 0):\n",
    "        \n",
    "        if mat[row][col] == target:\n",
    "            return [row,col]\n",
    "        \n",
    "        elif mat[row][col] > target:\n",
    "            col -= 1\n",
    "        \n",
    "        else:\n",
    "            row += 1\n",
    "    \n",
    "    return [-1,-1]\n"
   ]
  },
  {
   "cell_type": "code",
   "execution_count": 17,
   "metadata": {},
   "outputs": [
    {
     "name": "stdout",
     "output_type": "stream",
     "text": [
      "[-1, -1]\n"
     ]
    }
   ],
   "source": [
    "mat = [[10,20,30,40],\n",
    "       [12,21,32,42],\n",
    "       [15,23,35,45],\n",
    "       [18,25,37,50]]\n",
    "\n",
    "print(Search_2D_matrix(mat, 39))"
   ]
  },
  {
   "cell_type": "code",
   "execution_count": 6,
   "metadata": {},
   "outputs": [
    {
     "data": {
      "text/plain": [
       "4"
      ]
     },
     "execution_count": 6,
     "metadata": {},
     "output_type": "execute_result"
    }
   ],
   "source": [
    "len(mat)"
   ]
  },
  {
   "cell_type": "markdown",
   "metadata": {},
   "source": [
    "## Problem - 11\n",
    "*Search in strictly sorted 2-D matrix*"
   ]
  },
  {
   "cell_type": "code",
   "execution_count": 5,
   "metadata": {},
   "outputs": [],
   "source": [
    "# search in the provided row between the range provided by the cstart & cend\n",
    "\n",
    "def BinarySearch(arr, target, row, cstart, cend):\n",
    "    \n",
    "    while(cstart <= cend):\n",
    "        mid = cstart + (cend-cstart)//2\n",
    "        \n",
    "        if arr[row][mid] == target:\n",
    "            return [row,mid]\n",
    "        \n",
    "        elif arr[row][mid] > target:\n",
    "            cend = mid-1\n",
    "        \n",
    "        else:\n",
    "            cstart = mid+1\n",
    "            \n",
    "    return [-1,-1]\n",
    "\n",
    "def Search2D(mat, target):\n",
    "    \n",
    "    rows = len(mat)\n",
    "    cols = len(mat[0]) \n",
    "    \n",
    "    if rows == 1:\n",
    "        return BinarySearch(mat, target, 0, 0, cols-1)\n",
    "    \n",
    "    rstart = 0\n",
    "    rend = rows-1\n",
    "    mid_col = cols//2\n",
    "    \n",
    "    while(rstart < rend -1):          #   while this is true there would be more than 2 rows, in the end matrix would be left with 2 rows\n",
    "        \n",
    "        mid = rstart + (rend-rstart)//2\n",
    "        \n",
    "        if target == mat[mid][mid_col]:\n",
    "            return [mid, mid_col]\n",
    "\n",
    "        elif target >  mat[mid][mid_col]:\n",
    "            rstart = mid\n",
    "        \n",
    "        else:\n",
    "            rend = mid\n",
    "        \n",
    "    # now we have only 2 rows remaining\n",
    "    # now check if the target is in the col of 2 rows\n",
    "    \n",
    "    if mat[rstart][mid_col] == target:\n",
    "        return [rstart, mid_col]\n",
    "    \n",
    "    elif mat[rstart+1][mid_col] == target:\n",
    "        return [rstart+1, mid_col]\n",
    "    \n",
    "    #  Otherwise search in 1st, 2nd, 3rd and 4th half\n",
    "    \n",
    "    # search in 1st half\n",
    "    \n",
    "    if target <= mat[rstart][mid_col-1]:\n",
    "        return BinarySearch(mat, target, rstart, 0, mid_col-1)\n",
    "    \n",
    "    # search in 2nd half\n",
    "    \n",
    "    if target >= mat[rstart][mid_col+1] and target <= mat[rstart][cols-1]:\n",
    "        return BinarySearch(mat, target, rstart, mid_col+1, cols-1)\n",
    "    \n",
    "    # search in 3rd half\n",
    "    \n",
    "    if target <= mat[rstart+1][mid_col-1]:\n",
    "        return BinarySearch(mat, target, rstart+1, 0, mid_col-1)\n",
    "    \n",
    "    # search in 4th half\n",
    "    \n",
    "    if target >= mat[rstart+1][mid_col+1]:\n",
    "        return BinarySearch(mat, target, rstart+1, mid_col+1, cols-1)\n",
    "    "
   ]
  },
  {
   "cell_type": "code",
   "execution_count": 11,
   "metadata": {},
   "outputs": [
    {
     "name": "stdout",
     "output_type": "stream",
     "text": [
      "[-1, -1]\n"
     ]
    }
   ],
   "source": [
    "mat = [\n",
    "    [2,3,5,7],\n",
    "    [8,11,15,17],\n",
    "    [20,22,25,30],\n",
    "    [35,38,40,45]\n",
    "]\n",
    "\n",
    "print(Search2D(mat, 88))"
   ]
  },
  {
   "cell_type": "markdown",
   "metadata": {},
   "source": [
    "## Problem -12\n",
    "*Two Sum II - Input Array Is Sorted*\n",
    "\n",
    "*Level: Easy*\n",
    "\n",
    "[Problem Link](https://leetcode.com/problems/two-sum-ii-input-array-is-sorted/)"
   ]
  },
  {
   "cell_type": "code",
   "execution_count": 30,
   "metadata": {},
   "outputs": [],
   "source": [
    "def twoSum(num_list, target_sum):\n",
    "    \n",
    "    def BinarySearch(start, end, target):\n",
    "        \n",
    "        while(start <= end):\n",
    "            mid = start + (end-start)//2\n",
    "            print(\"mid \",mid)\n",
    "            \n",
    "            if target == num_list[mid]:\n",
    "                return mid\n",
    "            \n",
    "            elif target > num_list[mid]:\n",
    "                start = mid + 1\n",
    "            \n",
    "            else:\n",
    "                end = mid - 1\n",
    "            \n",
    "        return None\n",
    "    \n",
    "    index1 = 0\n",
    "    index2 = 0\n",
    "    for index1, num in enumerate(num_list):\n",
    "        print(f\"index1: {index1}\")\n",
    "        \n",
    "        if num <= target_sum:\n",
    "            num_to_search = target_sum - num\n",
    "            print(\"num_to_search \", num_to_search)\n",
    "            \n",
    "            index2 = BinarySearch(index1+1, len(num_list)-1, num_to_search)\n",
    "            if index2:\n",
    "                break\n",
    "            \n",
    "    return [index1+1, index2+1]\n",
    " "
   ]
  },
  {
   "cell_type": "code",
   "execution_count": 31,
   "metadata": {},
   "outputs": [
    {
     "name": "stdout",
     "output_type": "stream",
     "text": [
      "index1: 0\n",
      "num_to_search  0\n",
      "mid  1\n",
      "[1, 2]\n"
     ]
    }
   ],
   "source": [
    "num_list = [-1,0]\n",
    "target_sum = -1\n",
    "\n",
    "print(twoSum(num_list, target_sum))"
   ]
  },
  {
   "cell_type": "markdown",
   "metadata": {},
   "source": [
    "## Problem - 13\n",
    "*Valid Perfect Square*\n",
    "\n",
    "*Level: Easy*\n",
    "\n",
    "[Problem Link](https://leetcode.com/problems/valid-perfect-square/)"
   ]
  },
  {
   "cell_type": "code",
   "execution_count": 43,
   "metadata": {},
   "outputs": [],
   "source": [
    "def isPerfectSquare(num: int) -> bool:\n",
    "    start = 0\n",
    "    end = num\n",
    "    \n",
    "    while(start <= end):\n",
    "        mid = start + (end-start)//2\n",
    "\n",
    "        if mid*mid == num:\n",
    "            return True\n",
    "\n",
    "        elif mid*mid > num:\n",
    "            end = mid - 1\n",
    "\n",
    "        else:\n",
    "            start = mid + 1\n",
    "\n",
    "    return False\n"
   ]
  },
  {
   "cell_type": "code",
   "execution_count": 44,
   "metadata": {},
   "outputs": [
    {
     "name": "stdout",
     "output_type": "stream",
     "text": [
      "True\n"
     ]
    }
   ],
   "source": [
    "print(isPerfectSquare(2500))"
   ]
  },
  {
   "cell_type": "markdown",
   "metadata": {},
   "source": [
    "## Problem - 14\n",
    "*Arranging Coins*\n",
    "\n",
    "*Level: Easy*\n",
    "\n",
    "[Problem Link](https://leetcode.com/problems/arranging-coins/)\n",
    "\n"
   ]
  },
  {
   "cell_type": "code",
   "execution_count": 1,
   "metadata": {},
   "outputs": [],
   "source": [
    "def arrangeCoins(n: int) -> int:\n",
    "    start = 0\n",
    "    end = n\n",
    "\n",
    "    while(start <= end):\n",
    "        k = start + (end-start)//2\n",
    "\n",
    "        curr = k*(k+1)/2\n",
    "\n",
    "        if curr == n:\n",
    "            return k\n",
    "\n",
    "        elif curr < n:\n",
    "            start = k+1\n",
    "\n",
    "        else:\n",
    "            end = k-1\n",
    "\n",
    "    return end"
   ]
  },
  {
   "cell_type": "code",
   "execution_count": 2,
   "metadata": {},
   "outputs": [
    {
     "name": "stdout",
     "output_type": "stream",
     "text": [
      "2\n"
     ]
    }
   ],
   "source": [
    "print(arrangeCoins(5))"
   ]
  },
  {
   "cell_type": "markdown",
   "metadata": {},
   "source": [
    "## Problem - 15\n",
    "* Find Smallest Letter Greater Than Target\n",
    "\n",
    "* Level: Easy\n",
    "\n",
    "[Problem Link](https://leetcode.com/problems/find-smallest-letter-greater-than-target/)"
   ]
  },
  {
   "cell_type": "code",
   "execution_count": 5,
   "metadata": {},
   "outputs": [],
   "source": [
    "def nextGreatestLetter(letters, target):\n",
    "    start = 0\n",
    "    end = len(letters)-1\n",
    "\n",
    "    while start <= end:\n",
    "        mid = start + (end-start) // 2\n",
    "\n",
    "        if target < letters[mid]:\n",
    "            end = mid - 1\n",
    "\n",
    "        else:\n",
    "            start = mid + 1\n",
    "\n",
    "    return letters[start%len(letters)]\n",
    "        "
   ]
  },
  {
   "cell_type": "code",
   "execution_count": 6,
   "metadata": {},
   "outputs": [
    {
     "name": "stdout",
     "output_type": "stream",
     "text": [
      "k\n"
     ]
    }
   ],
   "source": [
    "letters = ['a','c','e','k']\n",
    "print(nextGreatestLetter(letters,'e'))"
   ]
  },
  {
   "cell_type": "code",
   "execution_count": null,
   "metadata": {},
   "outputs": [],
   "source": []
  }
 ],
 "metadata": {
  "kernelspec": {
   "display_name": "Python 3",
   "language": "python",
   "name": "python3"
  },
  "language_info": {
   "codemirror_mode": {
    "name": "ipython",
    "version": 3
   },
   "file_extension": ".py",
   "mimetype": "text/x-python",
   "name": "python",
   "nbconvert_exporter": "python",
   "pygments_lexer": "ipython3",
   "version": "3.8.5"
  }
 },
 "nbformat": 4,
 "nbformat_minor": 4
}
