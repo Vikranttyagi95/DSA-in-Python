{
 "cells": [
  {
   "cell_type": "markdown",
   "metadata": {},
   "source": [
    "## Binary Search"
   ]
  },
  {
   "cell_type": "code",
   "execution_count": 23,
   "metadata": {},
   "outputs": [],
   "source": [
    "my_list = [2,4,5,7,9,11,15,18,32,67,87]\n",
    "\n",
    "def binary_search(my_list, num):\n",
    "    start = 0\n",
    "    end = len(my_list) - 1\n",
    "    \n",
    "    while(start <= end):\n",
    "        mid = (start + end) // 2\n",
    "        \n",
    "        if my_list[mid] == num:\n",
    "            return mid\n",
    "        \n",
    "        elif my_list[mid] > num:\n",
    "            end = mid - 1\n",
    "        \n",
    "        else:\n",
    "            start = mid + 1\n",
    "    \n",
    "    return None"
   ]
  },
  {
   "cell_type": "code",
   "execution_count": 24,
   "metadata": {},
   "outputs": [
    {
     "name": "stdout",
     "output_type": "stream",
     "text": [
      "5\n"
     ]
    }
   ],
   "source": [
    "print(binary_search(my_list, 11))"
   ]
  },
  {
   "cell_type": "markdown",
   "metadata": {},
   "source": [
    "## Order Agnostic Binary Search\n",
    "*Binary Search implementation for when the sort order of the list doesn't matter*"
   ]
  },
  {
   "cell_type": "code",
   "execution_count": 18,
   "metadata": {},
   "outputs": [],
   "source": [
    "def OrderAgnosticBinarySearch(my_list, num):\n",
    "    start = 0\n",
    "    end = len(my_list) - 1\n",
    "    \n",
    "    def IsAsc():\n",
    "        return my_list[start] < my_list[end]\n",
    "        \n",
    "    while(start <= end):\n",
    "        mid = (start + end) // 2\n",
    "\n",
    "        if my_list[mid] == num:\n",
    "            return mid\n",
    "\n",
    "        if IsAsc():\n",
    "            if my_list[mid] > num:\n",
    "                end = mid - 1\n",
    "\n",
    "            else:\n",
    "                start = mid + 1\n",
    "        else:\n",
    "            if my_list[mid] < num:\n",
    "                end = mid - 1\n",
    "\n",
    "            else:\n",
    "                start = mid + 1         \n",
    "    \n",
    "    return None"
   ]
  },
  {
   "cell_type": "code",
   "execution_count": 19,
   "metadata": {},
   "outputs": [
    {
     "name": "stdout",
     "output_type": "stream",
     "text": [
      "7\n"
     ]
    }
   ],
   "source": [
    "my_list = [2,4,5,7,9,11,15,18,32,67,87]\n",
    "print(OrderAgnosticBinarySearch(my_list, 18))"
   ]
  },
  {
   "cell_type": "markdown",
   "metadata": {},
   "source": [
    "## Problem - 1\n",
    "*Given a non-negative integer x, compute and return the square root of x.*\n",
    "*Since the return type is an integer, the decimal digits are truncated, and only the integer part of the result is returned.*\n",
    "\n",
    "[Problem Link](https://leetcode.com/problems/sqrtx/)"
   ]
  },
  {
   "cell_type": "code",
   "execution_count": 21,
   "metadata": {},
   "outputs": [
    {
     "name": "stdout",
     "output_type": "stream",
     "text": [
      "2\n"
     ]
    }
   ],
   "source": [
    "def square_root(num):\n",
    "    if num == 0:\n",
    "        return 0\n",
    "    \n",
    "    left, right = 1,num\n",
    "\n",
    "    while(left <= right):\n",
    "        mid = left + (right-left)//2\n",
    "        if mid * mid <= num < (mid+1)*(mid+1):\n",
    "            return mid\n",
    "        elif mid*mid > num:\n",
    "            right = mid-1\n",
    "        else:\n",
    "            left = mid+1\n",
    "\n",
    "print(square_root(4))    "
   ]
  },
  {
   "cell_type": "markdown",
   "metadata": {},
   "source": [
    "## Problem - 2\n",
    "*Find the ceiling of a no.*"
   ]
  },
  {
   "cell_type": "code",
   "execution_count": 27,
   "metadata": {},
   "outputs": [],
   "source": [
    "def ceiling(my_list, target):\n",
    "    start = 0\n",
    "    end = len(my_list) - 1\n",
    "    \n",
    "    if target > my_list[end]:\n",
    "        return -1\n",
    "    \n",
    "    while(start <= end):\n",
    "        mid = start + (end-start)//2\n",
    "        \n",
    "        if target > my_list[mid]:\n",
    "            start = mid + 1\n",
    "        \n",
    "        elif target < my_list[mid]:\n",
    "            end = mid - 1\n",
    "        \n",
    "        else:\n",
    "            return my_list[mid]\n",
    "        \n",
    "    return my_list[start]"
   ]
  },
  {
   "cell_type": "code",
   "execution_count": 28,
   "metadata": {},
   "outputs": [
    {
     "name": "stdout",
     "output_type": "stream",
     "text": [
      "2\n"
     ]
    }
   ],
   "source": [
    "my_list = [2,3,5,7,9,15,18,21,28,32,37]\n",
    "print(ceiling(my_list,1))"
   ]
  },
  {
   "cell_type": "markdown",
   "metadata": {},
   "source": [
    "## Problem - 3\n",
    "*Given an array of integers nums sorted in non-decreasing order, find the starting and ending position of a given target value.*\n",
    "\n",
    "[Problem Link](https://leetcode.com/problems/find-first-and-last-position-of-element-in-sorted-array/)"
   ]
  },
  {
   "cell_type": "markdown",
   "metadata": {},
   "source": [
    "### Brute Force Method"
   ]
  },
  {
   "cell_type": "code",
   "execution_count": 48,
   "metadata": {},
   "outputs": [],
   "source": [
    "def SearchRange(my_list, target):\n",
    "    \n",
    "    if len(my_list) == 0 or target not in my_list:\n",
    "        return [-1,-1]\n",
    "    \n",
    "    res = []\n",
    "    for index in range(len(my_list)):         # looping from the beginning of the list\n",
    "        if my_list[index] == target:\n",
    "            res.append(index)\n",
    "            break\n",
    "        index += 1\n",
    "    \n",
    "   \n",
    "    for index in range(len(my_list)-1,-1,-1):    # looping from the end of the list\n",
    "        if target == my_list[index]:\n",
    "            print(index)\n",
    "            res.append(index)\n",
    "            break\n",
    "        index -= 1\n",
    "    \n",
    "    return res\n",
    "        "
   ]
  },
  {
   "cell_type": "code",
   "execution_count": 49,
   "metadata": {},
   "outputs": [
    {
     "name": "stdout",
     "output_type": "stream",
     "text": [
      "6\n",
      "[6, 6]\n"
     ]
    }
   ],
   "source": [
    "my_list = [5,6,7,7,7,7,8,9,10,12]\n",
    "print(SearchRange(my_list,8))"
   ]
  },
  {
   "cell_type": "markdown",
   "metadata": {},
   "source": [
    "### Using Binary Search"
   ]
  },
  {
   "cell_type": "code",
   "execution_count": 79,
   "metadata": {},
   "outputs": [],
   "source": [
    "class Solution:\n",
    "    \n",
    "    def find_element(numlist, num, firstOccurrence):\n",
    "        start = 0\n",
    "        end = len(numlist) - 1\n",
    "\n",
    "        ans = -1\n",
    "        while (start <= end):\n",
    "            mid = start + (end-start)//2\n",
    "\n",
    "            if num > numlist[mid]:\n",
    "                start = mid + 1\n",
    "            elif num < numlist[mid]:\n",
    "                end = mid - 1\n",
    "            else:\n",
    "                ans = mid\n",
    "                if firstOccurrence:            # Checking if we are searching for the first occurrence or last occurrence\n",
    "                    end = mid - 1\n",
    "                else:\n",
    "                    start = mid + 1\n",
    "        return ans\n",
    "\n",
    "    def searchRange(self, nums, target):\n",
    "        ans = [-1,-1]\n",
    "\n",
    "        ans[0] = find_element(nums, target, True)\n",
    "        if ans[0] != -1:\n",
    "            ans[1] = find_element(nums, target, False)\n",
    "\n",
    "        return ans"
   ]
  },
  {
   "cell_type": "code",
   "execution_count": 81,
   "metadata": {},
   "outputs": [
    {
     "name": "stdout",
     "output_type": "stream",
     "text": [
      "[6, 8]\n"
     ]
    }
   ],
   "source": [
    "my_list = [5,6,7,7,7,7,8,8,8,9,10,12]\n",
    "s1 = Solution()\n",
    "print(s1.searchRange(my_list,8))"
   ]
  },
  {
   "cell_type": "markdown",
   "metadata": {},
   "source": [
    "## Problem - 4\n",
    "*Find an element in a sorted array whose length is infinite*"
   ]
  },
  {
   "cell_type": "code",
   "execution_count": 87,
   "metadata": {},
   "outputs": [],
   "source": [
    "def BinarySearch(my_list, target, start, end):\n",
    "    \n",
    "    while(start <= end):\n",
    "        mid = start + (end-start)//2\n",
    "        \n",
    "        if target == my_list[mid]:\n",
    "            return mid\n",
    "        elif target < my_list[mid]:\n",
    "            end = mid-1\n",
    "        else:\n",
    "            start = mid+1\n",
    "        \n",
    "    return None\n",
    "\n",
    "def search_infinite_list(my_list, target):\n",
    "    start = 0\n",
    "    end = 1\n",
    "    \n",
    "    while(target > my_list[end]):      # double the size until the target element comes within a searchable range i.e we have start and end indices to search\n",
    "        newstart = end + 1\n",
    "        end = end + (end-start+1)*2    # double the size of the box each time because you dont know the length of the array\n",
    "        print(my_list[end])\n",
    "        start = newstart\n",
    "        \n",
    "    return BinarySearch(my_list, target, start, end)\n",
    "        "
   ]
  },
  {
   "cell_type": "code",
   "execution_count": 90,
   "metadata": {},
   "outputs": [
    {
     "name": "stdout",
     "output_type": "stream",
     "text": [
      "10\n",
      "3\n"
     ]
    }
   ],
   "source": [
    "my_list = [5,6,7,8,9,10,12,15,18,32,53,82,84,86,88,100,101,102,103,105]\n",
    "print(search_infinite_list(my_list,8))"
   ]
  },
  {
   "cell_type": "code",
   "execution_count": null,
   "metadata": {},
   "outputs": [],
   "source": []
  }
 ],
 "metadata": {
  "kernelspec": {
   "display_name": "Python 3",
   "language": "python",
   "name": "python3"
  },
  "language_info": {
   "codemirror_mode": {
    "name": "ipython",
    "version": 3
   },
   "file_extension": ".py",
   "mimetype": "text/x-python",
   "name": "python",
   "nbconvert_exporter": "python",
   "pygments_lexer": "ipython3",
   "version": "3.8.5"
  }
 },
 "nbformat": 4,
 "nbformat_minor": 4
}
