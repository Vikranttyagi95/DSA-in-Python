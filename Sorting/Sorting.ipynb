{
 "cells": [
  {
   "cell_type": "code",
   "execution_count": 9,
   "metadata": {},
   "outputs": [],
   "source": [
    "def BubbleSort(my_list):\n",
    "    n = len(my_list)\n",
    "    swap = False\n",
    "    \n",
    "    for i in range(n-1):\n",
    "        for j in range(1, n-i):\n",
    "            temp = 0\n",
    "            if my_list[j] < my_list[j-1]:\n",
    "                temp = my_list[j-1]\n",
    "                my_list[j-1] = my_list[j]\n",
    "                my_list[j] = temp\n",
    "                swap = True\n",
    "        \n",
    "        if not swap:\n",
    "            break\n",
    "    print(swap) \n",
    "    return my_list\n",
    "                "
   ]
  },
  {
   "cell_type": "code",
   "execution_count": 14,
   "metadata": {},
   "outputs": [
    {
     "name": "stdout",
     "output_type": "stream",
     "text": [
      "True\n",
      "[-8, -5, 4, 7]\n"
     ]
    }
   ],
   "source": [
    "my_list = [-8,7,-5,4]\n",
    "print(BubbleSort(my_list))"
   ]
  },
  {
   "cell_type": "markdown",
   "metadata": {},
   "source": [
    "## Selection Sort"
   ]
  },
  {
   "cell_type": "code",
   "execution_count": 1,
   "metadata": {},
   "outputs": [],
   "source": [
    "def FindMaxIndex(my_list, start, end):\n",
    "    max_index = 0\n",
    "    \n",
    "    for i in range(end):\n",
    "        if my_list[i] > my_list[max_index]:\n",
    "            max_index = i\n",
    "        \n",
    "    return max_index\n",
    "        \n",
    "\n",
    "def SelectionSort(my_list):\n",
    "    n = len(my_list)\n",
    "    \n",
    "    for i in range(n):\n",
    "        last_index = n-i-1\n",
    "        max_index = FindMaxIndex(my_list, 0, n-i)\n",
    "            \n",
    "        temp = my_list[last_index]\n",
    "        my_list[last_index] = my_list[max_index]\n",
    "        my_list[max_index] = temp\n",
    "        \n",
    "    return my_list\n",
    "                            "
   ]
  },
  {
   "cell_type": "code",
   "execution_count": 7,
   "metadata": {},
   "outputs": [
    {
     "name": "stdout",
     "output_type": "stream",
     "text": [
      "[-1, 0, 1]\n"
     ]
    }
   ],
   "source": [
    "my_list = [1,-1,0]\n",
    "print(SelectionSort(my_list))"
   ]
  },
  {
   "cell_type": "markdown",
   "metadata": {},
   "source": [
    "## Insertion Sort"
   ]
  },
  {
   "cell_type": "code",
   "execution_count": 36,
   "metadata": {},
   "outputs": [],
   "source": [
    "def InsertionSort(my_list):\n",
    "    n = len(my_list)\n",
    "    \n",
    "    for i in range(n-1):\n",
    "        j = i+1\n",
    "        \n",
    "        while j >= 0:\n",
    "            \n",
    "            if my_list[j] < my_list[j-1] and j-1 >= 0:\n",
    "                temp = my_list[j]\n",
    "                my_list[j] = my_list[j-1]\n",
    "                my_list[j-1] = temp\n",
    "            \n",
    "            else:\n",
    "                break\n",
    "            j -= 1\n",
    "             \n",
    "    return my_list\n",
    "            "
   ]
  },
  {
   "cell_type": "code",
   "execution_count": 40,
   "metadata": {},
   "outputs": [
    {
     "name": "stdout",
     "output_type": "stream",
     "text": [
      "[-1]\n"
     ]
    }
   ],
   "source": [
    "my_list = [-1]\n",
    "print(InsertionSort(my_list))"
   ]
  },
  {
   "cell_type": "code",
   "execution_count": null,
   "metadata": {},
   "outputs": [],
   "source": []
  }
 ],
 "metadata": {
  "kernelspec": {
   "display_name": "Python 3",
   "language": "python",
   "name": "python3"
  },
  "language_info": {
   "codemirror_mode": {
    "name": "ipython",
    "version": 3
   },
   "file_extension": ".py",
   "mimetype": "text/x-python",
   "name": "python",
   "nbconvert_exporter": "python",
   "pygments_lexer": "ipython3",
   "version": "3.8.5"
  }
 },
 "nbformat": 4,
 "nbformat_minor": 4
}
