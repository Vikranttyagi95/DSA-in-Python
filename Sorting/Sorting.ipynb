{
 "cells": [
  {
   "cell_type": "code",
   "execution_count": 9,
   "metadata": {},
   "outputs": [],
   "source": [
    "def BubbleSort(my_list):\n",
    "    n = len(my_list)\n",
    "    swap = False\n",
    "    \n",
    "    for i in range(n-1):\n",
    "        for j in range(1, n-i):\n",
    "            temp = 0\n",
    "            if my_list[j] < my_list[j-1]:\n",
    "                temp = my_list[j-1]\n",
    "                my_list[j-1] = my_list[j]\n",
    "                my_list[j] = temp\n",
    "                swap = True\n",
    "        \n",
    "        if not swap:\n",
    "            break\n",
    "    print(swap) \n",
    "    return my_list\n",
    "                "
   ]
  },
  {
   "cell_type": "code",
   "execution_count": 14,
   "metadata": {},
   "outputs": [
    {
     "name": "stdout",
     "output_type": "stream",
     "text": [
      "True\n",
      "[-8, -5, 4, 7]\n"
     ]
    }
   ],
   "source": [
    "my_list = [-8,7,-5,4]\n",
    "print(BubbleSort(my_list))"
   ]
  },
  {
   "cell_type": "markdown",
   "metadata": {},
   "source": [
    "## Selection Sort"
   ]
  },
  {
   "cell_type": "code",
   "execution_count": 1,
   "metadata": {},
   "outputs": [],
   "source": [
    "def FindMaxIndex(my_list, start, end):\n",
    "    max_index = 0\n",
    "    \n",
    "    for i in range(end):\n",
    "        if my_list[i] > my_list[max_index]:\n",
    "            max_index = i\n",
    "        \n",
    "    return max_index\n",
    "        \n",
    "\n",
    "def SelectionSort(my_list):\n",
    "    n = len(my_list)\n",
    "    \n",
    "    for i in range(n):\n",
    "        last_index = n-i-1\n",
    "        max_index = FindMaxIndex(my_list, 0, n-i)\n",
    "            \n",
    "        temp = my_list[last_index]\n",
    "        my_list[last_index] = my_list[max_index]\n",
    "        my_list[max_index] = temp\n",
    "        \n",
    "    return my_list\n",
    "                            "
   ]
  },
  {
   "cell_type": "code",
   "execution_count": 7,
   "metadata": {},
   "outputs": [
    {
     "name": "stdout",
     "output_type": "stream",
     "text": [
      "[-1, 0, 1]\n"
     ]
    }
   ],
   "source": [
    "my_list = [1,-1,0]\n",
    "print(SelectionSort(my_list))"
   ]
  },
  {
   "cell_type": "markdown",
   "metadata": {},
   "source": [
    "## Insertion Sort"
   ]
  },
  {
   "cell_type": "code",
   "execution_count": 36,
   "metadata": {},
   "outputs": [],
   "source": [
    "def InsertionSort(my_list):\n",
    "    n = len(my_list)\n",
    "    \n",
    "    for i in range(n-1):\n",
    "        j = i+1\n",
    "        \n",
    "        while j >= 0:\n",
    "            \n",
    "            if my_list[j] < my_list[j-1] and j-1 >= 0:\n",
    "                temp = my_list[j]\n",
    "                my_list[j] = my_list[j-1]\n",
    "                my_list[j-1] = temp\n",
    "            \n",
    "            else:\n",
    "                break\n",
    "            j -= 1\n",
    "             \n",
    "    return my_list\n",
    "            "
   ]
  },
  {
   "cell_type": "code",
   "execution_count": 40,
   "metadata": {},
   "outputs": [
    {
     "name": "stdout",
     "output_type": "stream",
     "text": [
      "[-1]\n"
     ]
    }
   ],
   "source": [
    "my_list = [-1]\n",
    "print(InsertionSort(my_list))"
   ]
  },
  {
   "cell_type": "markdown",
   "metadata": {},
   "source": [
    "## Cyclic Sort"
   ]
  },
  {
   "cell_type": "code",
   "execution_count": 9,
   "metadata": {},
   "outputs": [],
   "source": [
    "def CyclicSort(my_list):\n",
    "    n = len(my_list)\n",
    "    i = 0\n",
    "    \n",
    "    while i < n:\n",
    "        if my_list[i] != i+1:\n",
    "            print(f\"before swapping: {my_list[i]} {i+1}\")\n",
    "            temp = my_list[i]\n",
    "            correct_index = my_list[i] - 1\n",
    "            my_list[i] = my_list[correct_index]\n",
    "            my_list[correct_index] = temp\n",
    "            print(f\"After: {my_list[i]} {my_list[correct_index]}\")\n",
    "        \n",
    "        else:\n",
    "            i += 1\n",
    "        \n",
    "    return my_list\n",
    "            "
   ]
  },
  {
   "cell_type": "code",
   "execution_count": 10,
   "metadata": {},
   "outputs": [
    {
     "name": "stdout",
     "output_type": "stream",
     "text": [
      "before swapping: 5 1\n",
      "After: 2 5\n",
      "before swapping: 2 1\n",
      "After: 4 2\n",
      "before swapping: 4 1\n",
      "After: 3 4\n",
      "before swapping: 3 1\n",
      "After: 1 3\n",
      "[1, 2, 3, 4, 5, 6]\n"
     ]
    }
   ],
   "source": [
    "my_list = [5,4,1,3,2,6]\n",
    "print(CyclicSort(my_list))"
   ]
  },
  {
   "cell_type": "markdown",
   "metadata": {},
   "source": [
    "## Problem - 1\n",
    "\n",
    "### Missing number\n",
    "\n",
    "- Level: Easy\n",
    "\n",
    "[Problem Link](https://leetcode.com/problems/missing-number/)"
   ]
  },
  {
   "cell_type": "code",
   "execution_count": 14,
   "metadata": {},
   "outputs": [],
   "source": [
    "def missingNumber(nums):\n",
    "    n = len(nums) \n",
    "    i = 0\n",
    "    \n",
    "    while i < n:\n",
    "        if nums[i] != i and nums[i] < n:\n",
    "            correct_index = nums[i]\n",
    "            temp = nums[i]\n",
    "            nums[i] = nums[correct_index]\n",
    "            nums[correct_index] = temp\n",
    "        \n",
    "        else: i += 1\n",
    "    \n",
    "    for i in range(n):\n",
    "        if nums[i] != i:\n",
    "            return i\n",
    " "
   ]
  },
  {
   "cell_type": "code",
   "execution_count": 15,
   "metadata": {},
   "outputs": [
    {
     "name": "stdout",
     "output_type": "stream",
     "text": [
      "2\n",
      "nums [0, 1, 3]\n"
     ]
    }
   ],
   "source": [
    "nums = [3,0,1]\n",
    "print(missingNumber(nums))\n",
    "print(\"nums\", nums)"
   ]
  },
  {
   "cell_type": "markdown",
   "metadata": {},
   "source": [
    "## Problem - 2\n",
    "\n",
    "### Find all numbers disappeared in an array\n",
    "\n",
    "- Level: Easy\n",
    "\n",
    "[Problem Link](https://leetcode.com/problems/find-all-numbers-disappeared-in-an-array/)"
   ]
  },
  {
   "cell_type": "code",
   "execution_count": 32,
   "metadata": {},
   "outputs": [],
   "source": [
    "def findDisappearedNumbers(nums):\n",
    "    n = len(my_list)\n",
    "    i = 0\n",
    "    \n",
    "    while i < n:\n",
    "        print(f\"i: {i}\")\n",
    "        correct_index = my_list[i] - 1\n",
    "        \n",
    "        if my_list[i] != my_list[correct_index]:\n",
    "            \n",
    "            print(f\"before swapping: {my_list[i]} {my_list[correct_index]}\")\n",
    "            temp = my_list[i]\n",
    "            my_list[i] = my_list[correct_index]\n",
    "            my_list[correct_index] = temp\n",
    "            print(f\"After: {my_list[i]} {my_list[correct_index]}\")\n",
    "        \n",
    "        else:\n",
    "            i += 1\n",
    "        \n",
    "        print(my_list)\n",
    "    \n",
    "    res = []\n",
    "    for i in range(n):\n",
    "        if nums[i] != i+1:\n",
    "            res.append(i+1)\n",
    "    \n",
    "    return res"
   ]
  },
  {
   "cell_type": "code",
   "execution_count": 34,
   "metadata": {},
   "outputs": [
    {
     "name": "stdout",
     "output_type": "stream",
     "text": [
      "i: 0\n",
      "[1, 1]\n",
      "i: 1\n",
      "[1, 1]\n",
      "[2]\n"
     ]
    }
   ],
   "source": [
    "my_list = [1,1]\n",
    "print(findDisappearedNumbers(my_list))"
   ]
  },
  {
   "cell_type": "markdown",
   "metadata": {},
   "source": [
    "## Problem - 3\n",
    "### Find the duplicate number\n",
    "- Level: Medium\n",
    "\n",
    "[Problem Link](https://leetcode.com/problems/find-all-numbers-disappeared-in-an-array/submissions/)"
   ]
  },
  {
   "cell_type": "code",
   "execution_count": 47,
   "metadata": {},
   "outputs": [],
   "source": [
    "def findDuplicate(nums):\n",
    "    n = len(nums)\n",
    "    i = 0\n",
    "    \n",
    "    while i < n:\n",
    "        correct_index = nums[i] - 1\n",
    "        \n",
    "        if nums[i] != i+1:\n",
    "            if nums[i] != nums[correct_index]:\n",
    "                temp = nums[i]\n",
    "                nums[i] = nums[correct_index]\n",
    "                nums[correct_index] = temp\n",
    "            \n",
    "            else:\n",
    "                return nums[i]\n",
    "            \n",
    "            \n",
    "        else:\n",
    "            i += 1\n",
    "                                  "
   ]
  },
  {
   "cell_type": "code",
   "execution_count": 48,
   "metadata": {},
   "outputs": [
    {
     "name": "stdout",
     "output_type": "stream",
     "text": [
      "2\n"
     ]
    }
   ],
   "source": [
    "nums = [1,3,4,2,2]\n",
    "print(findDuplicate(nums))"
   ]
  },
  {
   "cell_type": "markdown",
   "metadata": {},
   "source": [
    "## Problem - 4\n",
    "### Find all duplicates in an array\n",
    "- Level: Medium\n",
    "\n",
    "[Problem Link](https://leetcode.com/problems/find-all-duplicates-in-an-array/)"
   ]
  },
  {
   "cell_type": "code",
   "execution_count": 53,
   "metadata": {},
   "outputs": [],
   "source": [
    "def findDuplicates(nums):\n",
    "    n = len(nums)\n",
    "    i = 0\n",
    "    \n",
    "    res = []\n",
    "    while i < n:\n",
    "        correct_index = nums[i] - 1\n",
    "        if nums[i] != nums[correct_index]:\n",
    "            temp = nums[i]\n",
    "            nums[i] = nums[correct_index]\n",
    "            nums[correct_index] = temp\n",
    "\n",
    "        else:\n",
    "            i += 1\n",
    "    \n",
    "    for i in range(n):\n",
    "        if nums[i] != i+1:\n",
    "            res.append(nums[i])\n",
    "            \n",
    "    return res\n",
    "            "
   ]
  },
  {
   "cell_type": "code",
   "execution_count": 54,
   "metadata": {},
   "outputs": [
    {
     "name": "stdout",
     "output_type": "stream",
     "text": [
      "[3, 2]\n"
     ]
    }
   ],
   "source": [
    "nums = [4,3,2,7,8,2,3,1]\n",
    "print(findDuplicates(nums))"
   ]
  },
  {
   "cell_type": "code",
   "execution_count": null,
   "metadata": {},
   "outputs": [],
   "source": []
  }
 ],
 "metadata": {
  "kernelspec": {
   "display_name": "Python 3",
   "language": "python",
   "name": "python3"
  },
  "language_info": {
   "codemirror_mode": {
    "name": "ipython",
    "version": 3
   },
   "file_extension": ".py",
   "mimetype": "text/x-python",
   "name": "python",
   "nbconvert_exporter": "python",
   "pygments_lexer": "ipython3",
   "version": "3.8.5"
  }
 },
 "nbformat": 4,
 "nbformat_minor": 4
}
