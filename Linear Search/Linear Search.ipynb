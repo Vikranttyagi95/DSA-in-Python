{
 "cells": [
  {
   "cell_type": "markdown",
   "metadata": {},
   "source": [
    "## Linear Search Alogrithm\n",
    "\n",
    "*Given an array, find a particular item in the array and return its index*\n",
    "*Ex:*\n",
    "\n",
    "`[18,6,21,8,7,11,15,9,13,28,55]`\n",
    "\n",
    "*search for 15 in the array and return* \n",
    "\n",
    "`6`"
   ]
  },
  {
   "cell_type": "code",
   "execution_count": 18,
   "metadata": {},
   "outputs": [],
   "source": [
    "def linear_search(num_list, item):\n",
    "    # Check if the list is empty, then return -1\n",
    "    \n",
    "    if len(num_list) == 0:\n",
    "        return -1\n",
    "    \n",
    "    # loop through the list and compare each no in the list with the item to find and return its index if there is a match\n",
    "    \n",
    "    for index,num in enumerate(num_list):\n",
    "            if num == item:\n",
    "                return index\n",
    "            \n",
    "    # If there is no match found then return -1\n",
    "    return -1\n",
    "                   "
   ]
  },
  {
   "cell_type": "code",
   "execution_count": 21,
   "metadata": {},
   "outputs": [
    {
     "name": "stdout",
     "output_type": "stream",
     "text": [
      "6\n"
     ]
    }
   ],
   "source": [
    "num_list = [18,6,21,8,7,11,15,9,13,28,55]\n",
    "print(linear_search(num_list,15))"
   ]
  },
  {
   "cell_type": "markdown",
   "metadata": {},
   "source": [
    "## Finding minimum & maximum in a given array"
   ]
  },
  {
   "cell_type": "code",
   "execution_count": 23,
   "metadata": {},
   "outputs": [],
   "source": [
    "def find_min(num_list):\n",
    "    if len(num_list) == 0:\n",
    "        return -1\n",
    "    \n",
    "    min_num = num_list[0]\n",
    "    \n",
    "    for num in num_list[1:]:\n",
    "        if num < min_num:\n",
    "            min_num = num\n",
    "    \n",
    "    return min_num"
   ]
  },
  {
   "cell_type": "code",
   "execution_count": 25,
   "metadata": {},
   "outputs": [
    {
     "name": "stdout",
     "output_type": "stream",
     "text": [
      "6\n"
     ]
    }
   ],
   "source": [
    "num_list = [18,6,21,8,7,11,15,9,13,28,55]\n",
    "print(find_min(num_list))"
   ]
  },
  {
   "cell_type": "markdown",
   "metadata": {},
   "source": [
    "## Searching in a 2D List"
   ]
  },
  {
   "cell_type": "code",
   "execution_count": 33,
   "metadata": {},
   "outputs": [
    {
     "name": "stdout",
     "output_type": "stream",
     "text": [
      "(0, 2)\n"
     ]
    }
   ],
   "source": [
    "num_list = [\n",
    "    [2,4,8,10],\n",
    "    [32,12,89,21],\n",
    "    [37,81,76]\n",
    "]\n",
    "\n",
    "def search_2d(num_list, item):\n",
    "    if len(num_list) == 0:\n",
    "        return -1\n",
    "    \n",
    "    for i,row in enumerate(num_list):   # Iterating over the items in list which is another list and then finding its length and iterating over it\n",
    "        for j in range(len(row)):\n",
    "            if num_list[i][j] == item:\n",
    "                return (i,j)            # returns a tuple of 2 items i.e 1st for row index and 2nd for column index\n",
    "    \n",
    "    return -1\n",
    "\n",
    "print(search_2d(num_list, 8))"
   ]
  },
  {
   "cell_type": "markdown",
   "metadata": {},
   "source": [
    "## LeetCode Problem - 1\n",
    "*Given an array nums of integers, return how many of them contain an even number of digits.*\n",
    "\n",
    "[Problem link](https://leetcode.com/problems/find-numbers-with-even-number-of-digits/)\n",
    "\n",
    "*Ex:* \n",
    "`nums = [12,345,2,6,7896]`\n",
    "\n",
    "*Output*\n",
    "`2`"
   ]
  },
  {
   "cell_type": "code",
   "execution_count": 37,
   "metadata": {},
   "outputs": [
    {
     "name": "stdout",
     "output_type": "stream",
     "text": [
      "2\n"
     ]
    }
   ],
   "source": [
    "nums =  [12,345,2,6,7896]\n",
    "nums = list(map(str, nums))\n",
    "\n",
    "def short_method(nums):\n",
    "    total = 0\n",
    "    for num in nums:\n",
    "        if len(num) % 2 == 0:\n",
    "            total += 1\n",
    "    return total\n",
    "    "
   ]
  },
  {
   "cell_type": "code",
   "execution_count": 44,
   "metadata": {},
   "outputs": [
    {
     "name": "stdout",
     "output_type": "stream",
     "text": [
      "0\n"
     ]
    }
   ],
   "source": [
    "def even(num):\n",
    "    count = 0\n",
    "    while(num > 10):\n",
    "        count += 1\n",
    "        num = num / 10\n",
    "    \n",
    "    count += 1\n",
    "    \n",
    "    return count % 2 == 0\n",
    "\n",
    "def long_method(nums):\n",
    "    total = 0\n",
    "    \n",
    "    for num in nums:\n",
    "        if even(num):\n",
    "            total += 1\n",
    "    \n",
    "    return total\n",
    "\n",
    "nums =  [123,345,112,612,821,1,71896]\n",
    "\n",
    "print(long_method(nums))"
   ]
  },
  {
   "cell_type": "markdown",
   "metadata": {},
   "source": [
    "## LeetCode Problem - 2\n",
    "*You are given an m x n integer grid accounts where accounts[i][j] is the amount of money the ith customer has in the jth bank. Return the wealth that the richest customer has.*\n",
    "\n",
    "*A customer's wealth is the amount of money they have in all their bank accounts. The richest customer is the customer that has the maximum wealth.*\n",
    "\n",
    "*Ex:*\n",
    "`accounts = [[1,2,3],[3,2,1]]`\n",
    "\n",
    "*Output* `6`"
   ]
  },
  {
   "cell_type": "code",
   "execution_count": null,
   "metadata": {},
   "outputs": [],
   "source": []
  }
 ],
 "metadata": {
  "kernelspec": {
   "display_name": "Python 3",
   "language": "python",
   "name": "python3"
  },
  "language_info": {
   "codemirror_mode": {
    "name": "ipython",
    "version": 3
   },
   "file_extension": ".py",
   "mimetype": "text/x-python",
   "name": "python",
   "nbconvert_exporter": "python",
   "pygments_lexer": "ipython3",
   "version": "3.8.5"
  }
 },
 "nbformat": 4,
 "nbformat_minor": 4
}
