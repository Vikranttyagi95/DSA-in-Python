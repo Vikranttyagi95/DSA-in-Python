{
 "cells": [
  {
   "cell_type": "markdown",
   "metadata": {},
   "source": [
    "## Pattern: 1"
   ]
  },
  {
   "cell_type": "code",
   "execution_count": 18,
   "metadata": {},
   "outputs": [],
   "source": [
    "def pattern_one(n_rows):\n",
    "    \n",
    "    for i in range(1, n_rows+1):\n",
    "        for j in range(i):\n",
    "            print('*', end=\" \")\n",
    "        print()"
   ]
  },
  {
   "cell_type": "code",
   "execution_count": 19,
   "metadata": {},
   "outputs": [
    {
     "name": "stdout",
     "output_type": "stream",
     "text": [
      "* \n",
      "* * \n",
      "* * * \n",
      "* * * * \n",
      "* * * * * \n"
     ]
    }
   ],
   "source": [
    "pattern_one(5)"
   ]
  },
  {
   "cell_type": "markdown",
   "metadata": {},
   "source": [
    "## Pattern - 2"
   ]
  },
  {
   "cell_type": "code",
   "execution_count": 22,
   "metadata": {},
   "outputs": [],
   "source": [
    "def pattern_two(n_rows):\n",
    "    \n",
    "    for i in range(n_rows):\n",
    "        for j in range(n_rows):\n",
    "            print('*', end=\" \")\n",
    "        print()"
   ]
  },
  {
   "cell_type": "code",
   "execution_count": 23,
   "metadata": {},
   "outputs": [
    {
     "name": "stdout",
     "output_type": "stream",
     "text": [
      "* * * * * \n",
      "* * * * * \n",
      "* * * * * \n",
      "* * * * * \n",
      "* * * * * \n"
     ]
    }
   ],
   "source": [
    "pattern_two(5)"
   ]
  },
  {
   "cell_type": "markdown",
   "metadata": {},
   "source": [
    "## Pattern - 3"
   ]
  },
  {
   "cell_type": "code",
   "execution_count": 29,
   "metadata": {},
   "outputs": [],
   "source": [
    "def pattern_three(n_rows):\n",
    "    \n",
    "    for i in range(n_rows,-1, -1):\n",
    "        for j in range(i):\n",
    "            print('*', end=\" \")\n",
    "        print()\n",
    "\n",
    "def pattern_3(nrows):\n",
    "    \n",
    "    for i in range(1, nrows+1):\n",
    "        for j in range(nrows-i+1):\n",
    "            print('*', end=\" \")\n",
    "        print()"
   ]
  },
  {
   "cell_type": "code",
   "execution_count": 30,
   "metadata": {},
   "outputs": [
    {
     "name": "stdout",
     "output_type": "stream",
     "text": [
      "* * * * * \n",
      "* * * * \n",
      "* * * \n",
      "* * \n",
      "* \n"
     ]
    }
   ],
   "source": [
    "pattern_3(5)"
   ]
  },
  {
   "cell_type": "markdown",
   "metadata": {},
   "source": [
    "## Pattern - 4"
   ]
  },
  {
   "cell_type": "code",
   "execution_count": 35,
   "metadata": {},
   "outputs": [],
   "source": [
    "def pattern_four(nrows):\n",
    "    \n",
    "    for i in range(1, nrows+1):\n",
    "        for j in range(1,i+1):\n",
    "            print(j, end=\" \")\n",
    "        print()"
   ]
  },
  {
   "cell_type": "code",
   "execution_count": 37,
   "metadata": {},
   "outputs": [
    {
     "name": "stdout",
     "output_type": "stream",
     "text": [
      "1 \n",
      "1 2 \n",
      "1 2 3 \n",
      "1 2 3 4 \n",
      "1 2 3 4 5 \n"
     ]
    }
   ],
   "source": [
    "pattern_four(5)"
   ]
  },
  {
   "cell_type": "markdown",
   "metadata": {},
   "source": [
    "## Pattern - 5"
   ]
  },
  {
   "cell_type": "code",
   "execution_count": 1,
   "metadata": {},
   "outputs": [],
   "source": [
    "def pattern_five(nrows):\n",
    "    \n",
    "    for i in range(1, 2*nrows):\n",
    "        \n",
    "        if i <= nrows:\n",
    "                \n",
    "            for j in range(i):\n",
    "                print('*', end=\" \")\n",
    "        \n",
    "            print()\n",
    "        \n",
    "        else:\n",
    "            i = i % nrows \n",
    "            for j in range(nrows-i):\n",
    "                print('*', end=\" \")\n",
    "            \n",
    "            print()"
   ]
  },
  {
   "cell_type": "code",
   "execution_count": 2,
   "metadata": {},
   "outputs": [
    {
     "name": "stdout",
     "output_type": "stream",
     "text": [
      "* \n",
      "* * \n",
      "* * * \n",
      "* * * * \n",
      "* * * * * \n",
      "* * * * \n",
      "* * * \n",
      "* * \n",
      "* \n"
     ]
    }
   ],
   "source": [
    "pattern_five(5)"
   ]
  },
  {
   "cell_type": "markdown",
   "metadata": {},
   "source": [
    "## Pattern - 6\n",
    "\n",
    "        *\n",
    "       ***\n",
    "      *****\n",
    "     *******\n",
    "    *********"
   ]
  },
  {
   "cell_type": "code",
   "execution_count": 6,
   "metadata": {},
   "outputs": [],
   "source": [
    "def pattern_six(nrows):\n",
    "    \n",
    "    for i in range(1, nrows+1):\n",
    "        for j in range(nrows-i):\n",
    "            print(\" \", end= \"\")\n",
    "        \n",
    "        for j in range(2*i-1):\n",
    "            print('*', end= \"\")\n",
    "        \n",
    "        print()"
   ]
  },
  {
   "cell_type": "code",
   "execution_count": 7,
   "metadata": {},
   "outputs": [
    {
     "name": "stdout",
     "output_type": "stream",
     "text": [
      "    *\n",
      "   ***\n",
      "  *****\n",
      " *******\n",
      "*********\n"
     ]
    }
   ],
   "source": [
    "pattern_six(5)"
   ]
  },
  {
   "cell_type": "markdown",
   "metadata": {},
   "source": [
    "## Pattern - 7\n",
    "\n",
    "         *\n",
    "        * *\n",
    "       * * *\n",
    "      * * * *\n",
    "     * * * * *\n",
    "      * * * *\n",
    "       * * *\n",
    "        * *\n",
    "         *"
   ]
  },
  {
   "cell_type": "code",
   "execution_count": 10,
   "metadata": {},
   "outputs": [],
   "source": [
    "def pattern_seven(nrows):\n",
    "    \n",
    "    for i in range(1, 2*nrows):\n",
    "        if i <= nrows:\n",
    "            for j in range(nrows-i):\n",
    "                print(\" \", end= \"\")\n",
    "\n",
    "            for j in range(i):\n",
    "                print('*', end= \" \")\n",
    "\n",
    "            print()\n",
    "        \n",
    "        else:\n",
    "            i = i % nrows\n",
    "            for j in range(i):\n",
    "                print(\" \", end= \"\")\n",
    "            \n",
    "            for j in range(nrows-i):\n",
    "                print('*', end=\" \")\n",
    "            \n",
    "            print()"
   ]
  },
  {
   "cell_type": "code",
   "execution_count": 11,
   "metadata": {},
   "outputs": [
    {
     "name": "stdout",
     "output_type": "stream",
     "text": [
      "    * \n",
      "   * * \n",
      "  * * * \n",
      " * * * * \n",
      "* * * * * \n",
      " * * * * \n",
      "  * * * \n",
      "   * * \n",
      "    * \n"
     ]
    }
   ],
   "source": [
    "pattern_seven(5)"
   ]
  },
  {
   "cell_type": "markdown",
   "metadata": {},
   "source": [
    "## Pattern - 8\n",
    "\n",
    "            1\n",
    "          2 1 2\n",
    "        3 2 1 2 3\n",
    "      4 3 2 1 2 3 4\n",
    "    5 4 3 2 1 2 3 4 5"
   ]
  },
  {
   "cell_type": "code",
   "execution_count": 60,
   "metadata": {},
   "outputs": [],
   "source": [
    "def pattern_eight(nrows):\n",
    "    \n",
    "    for i in range(1, nrows+1):\n",
    "        for j in range(nrows-i):\n",
    "            print(\" \", end= \" \")\n",
    "            \n",
    "        for j in range(i, 0, -1):\n",
    "            print(j, end= \" \")\n",
    "        \n",
    "        for j in range(2, i+1):\n",
    "            print(j, end= \" \")\n",
    "            \n",
    "        \n",
    "        print()"
   ]
  },
  {
   "cell_type": "code",
   "execution_count": 61,
   "metadata": {},
   "outputs": [
    {
     "name": "stdout",
     "output_type": "stream",
     "text": [
      "        1 \n",
      "      2 1 2 \n",
      "    3 2 1 2 3 \n",
      "  4 3 2 1 2 3 4 \n",
      "5 4 3 2 1 2 3 4 5 \n"
     ]
    }
   ],
   "source": [
    "pattern_eight(5)"
   ]
  },
  {
   "cell_type": "markdown",
   "metadata": {},
   "source": [
    "## Pattern - 9\n",
    "\n",
    "         1\n",
    "        212\n",
    "       32123\n",
    "      4321234\n",
    "       32123\n",
    "        212\n",
    "         1"
   ]
  },
  {
   "cell_type": "code",
   "execution_count": 68,
   "metadata": {},
   "outputs": [],
   "source": [
    "def pattern_nine(nrows):\n",
    "    \n",
    "    for i in range(1, 2*nrows):\n",
    "        \n",
    "        if i <= nrows:\n",
    "            \n",
    "            for j in range(nrows-i):\n",
    "                print(\" \", end= \" \")\n",
    "\n",
    "            for j in range(i, 0, -1):\n",
    "                print(j, end= \" \")\n",
    "\n",
    "            for j in range(2, i+1):\n",
    "                print(j, end= \" \")\n",
    "\n",
    "            print()\n",
    "        \n",
    "        else:\n",
    "            i = i % nrows\n",
    "            \n",
    "            for j in range(i):\n",
    "                print(\" \", end=\" \")\n",
    "                \n",
    "            for j in range(nrows-i, 0, -1):\n",
    "                print(j, end= \" \")\n",
    "            \n",
    "            for j in range(2, nrows-i+1):\n",
    "                print(j, end= \" \")\n",
    "            \n",
    "            print()"
   ]
  },
  {
   "cell_type": "code",
   "execution_count": 72,
   "metadata": {},
   "outputs": [
    {
     "name": "stdout",
     "output_type": "stream",
     "text": [
      "        1 \n",
      "      2 1 2 \n",
      "    3 2 1 2 3 \n",
      "  4 3 2 1 2 3 4 \n",
      "5 4 3 2 1 2 3 4 5 \n",
      "  4 3 2 1 2 3 4 \n",
      "    3 2 1 2 3 \n",
      "      2 1 2 \n",
      "        1 \n"
     ]
    }
   ],
   "source": [
    "pattern_nine(5)"
   ]
  },
  {
   "cell_type": "markdown",
   "metadata": {},
   "source": [
    "## Pattern - 10\n",
    "\n",
    "         4 4 4 4 4 4 4  \n",
    "         4 3 3 3 3 3 4   \n",
    "         4 3 2 2 2 3 4   \n",
    "         4 3 2 1 2 3 4   \n",
    "         4 3 2 2 2 3 4   \n",
    "         4 3 3 3 3 3 4   \n",
    "         4 4 4 4 4 4 4   \n"
   ]
  },
  {
   "cell_type": "code",
   "execution_count": 93,
   "metadata": {},
   "outputs": [],
   "source": [
    "def pattern_ten(nrows):\n",
    "    n = 2*nrows\n",
    "    \n",
    "    for row in range(n+1):\n",
    "        for col in range(n+1):\n",
    "            item = nrows - min(row, col, (n-row), (n-col))\n",
    "            print(item, end= \" \")\n",
    "        \n",
    "        print()\n",
    "            "
   ]
  },
  {
   "cell_type": "code",
   "execution_count": 94,
   "metadata": {},
   "outputs": [
    {
     "name": "stdout",
     "output_type": "stream",
     "text": [
      "4 4 4 4 4 4 4 4 4 \n",
      "4 3 3 3 3 3 3 3 4 \n",
      "4 3 2 2 2 2 2 3 4 \n",
      "4 3 2 1 1 1 2 3 4 \n",
      "4 3 2 1 0 1 2 3 4 \n",
      "4 3 2 1 1 1 2 3 4 \n",
      "4 3 2 2 2 2 2 3 4 \n",
      "4 3 3 3 3 3 3 3 4 \n",
      "4 4 4 4 4 4 4 4 4 \n"
     ]
    }
   ],
   "source": [
    "pattern_ten(4)"
   ]
  },
  {
   "cell_type": "code",
   "execution_count": 97,
   "metadata": {},
   "outputs": [],
   "source": [
    "def pattern_ten(nrows):\n",
    "    n = 2*nrows\n",
    "    \n",
    "    for row in range(n-1):\n",
    "        for col in range(n-1):\n",
    "            item = nrows - min(row, col, (n-row), (n-col))\n",
    "            print(item, end= \" \")\n",
    "        \n",
    "        print()"
   ]
  },
  {
   "cell_type": "code",
   "execution_count": 98,
   "metadata": {},
   "outputs": [
    {
     "name": "stdout",
     "output_type": "stream",
     "text": [
      "4 4 4 4 4 4 4 \n",
      "4 3 3 3 3 3 3 \n",
      "4 3 2 2 2 2 2 \n",
      "4 3 2 1 1 1 2 \n",
      "4 3 2 1 0 1 2 \n",
      "4 3 2 1 1 1 2 \n",
      "4 3 2 2 2 2 2 \n"
     ]
    }
   ],
   "source": [
    "pattern_ten(4)"
   ]
  },
  {
   "cell_type": "code",
   "execution_count": null,
   "metadata": {},
   "outputs": [],
   "source": []
  }
 ],
 "metadata": {
  "kernelspec": {
   "display_name": "Python 3",
   "language": "python",
   "name": "python3"
  },
  "language_info": {
   "codemirror_mode": {
    "name": "ipython",
    "version": 3
   },
   "file_extension": ".py",
   "mimetype": "text/x-python",
   "name": "python",
   "nbconvert_exporter": "python",
   "pygments_lexer": "ipython3",
   "version": "3.8.5"
  }
 },
 "nbformat": 4,
 "nbformat_minor": 4
}
